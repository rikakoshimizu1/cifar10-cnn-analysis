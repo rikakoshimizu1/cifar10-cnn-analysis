{
  "nbformat": 4,
  "nbformat_minor": 0,
  "metadata": {
    "colab": {
      "provenance": [],
      "gpuType": "T4"
    },
    "kernelspec": {
      "name": "python3",
      "display_name": "Python 3"
    },
    "language_info": {
      "name": "python"
    },
    "accelerator": "GPU"
  },
  "cells": [
    {
      "cell_type": "markdown",
      "source": [
        "#Assignment 3"
      ],
      "metadata": {
        "id": "VESj8XHQZUPN"
      }
    },
    {
      "cell_type": "markdown",
      "source": [
        "# VERY IMPORTANT: Please make a copy (**File→Save a copy in Drive**) so that you can make changes in your file.\n",
        "\n",
        "Submit your drive url link in the assignment submission page. Please also upload the dowloaded .ipynb file (File→Download->Download .ipynb).\n",
        "\n",
        "Make sure you change the name of the collab page to your Name -  Assignment_3_FirstName_LastName"
      ],
      "metadata": {
        "id": "u4XaZ53Bbnjx"
      }
    },
    {
      "cell_type": "markdown",
      "source": [
        "In this assignment, you'll work on building a simple CNN model and adding improvements."
      ],
      "metadata": {
        "id": "Pm9TA-foaF07"
      }
    },
    {
      "cell_type": "markdown",
      "source": [
        "For this assignment, the CIFAR-10 dataset was chosen, comprising 60,000 32x32 color images across 10 classes. The dataset was divided into training, validation, and test sets with appropriate preprocessing techniques.\n",
        "\n",
        "The CIFAR-10 dataset consists of 60000 32x32 colour images in 10 classes, with 6000 images per class. There are 50000 training images and 10000 test images.\n",
        "\n",
        "The dataset is divided into five training batches and one test batch, each with 10000 images. The test batch contains exactly 1000 randomly-selected images from each class. The training batches contain the remaining images in random order, but some training batches may contain more images from one class than another. Between them, the training batches contain exactly 5000 images from each class.\n",
        "\n",
        "Here are the classes in the dataset, as well as 10 random images from each:\n",
        "\n",
        "* airplane\n",
        "* automobile\n",
        "* bird\n",
        "* cat\n",
        "* deer\n",
        "* dog\n",
        "* frog\n",
        "* horse\n",
        "* ship\n",
        "* truck\n"
      ],
      "metadata": {
        "id": "RXUjG3rbZXP4"
      }
    },
    {
      "cell_type": "code",
      "execution_count": 135,
      "metadata": {
        "id": "8KXKokkgZTiI"
      },
      "outputs": [],
      "source": [
        "# Import necessary libraries\n",
        "import numpy as np\n",
        "import matplotlib.pyplot as plt\n",
        "from tensorflow.keras.datasets import cifar10\n",
        "from tensorflow.keras.models import Sequential\n",
        "from tensorflow.keras.layers import Conv2D, MaxPooling2D, Flatten, Dense, Dropout\n",
        "from tensorflow.keras.utils import to_categorical\n",
        "from tensorflow.keras.optimizers import Adam\n",
        "from sklearn.model_selection import train_test_split\n",
        "from keras.models import Model\n"
      ]
    },
    {
      "cell_type": "code",
      "source": [
        "# Load CIFAR-10 dataset\n",
        "(x_train, y_train), (x_test, y_test) = cifar10.load_data()\n",
        "class_names = ['airplane', 'automobile', 'bird', 'cat', 'deer', 'dog', 'frog', 'horse', 'ship', 'truck']"
      ],
      "metadata": {
        "id": "R-6iUa0naVfn"
      },
      "execution_count": 136,
      "outputs": []
    },
    {
      "cell_type": "markdown",
      "source": [
        "#Implement a  CNN model to do image classification on cifar10 dataset and work on improving it\n",
        "\n",
        "#Points 15"
      ],
      "metadata": {
        "id": "zZ3OuFEtcvpA"
      }
    },
    {
      "cell_type": "markdown",
      "source": [
        "### Tasks 1: Data Exploration and Analysis\n",
        "\n",
        "- Visualizing CIFAR 10 (display a few sample images from the dataset)\n",
        "- Normalize the data\n",
        "- Display the data shape of train, test data\n",
        "\n",
        "##Points: 2"
      ],
      "metadata": {
        "id": "I1duNzyidH64"
      }
    },
    {
      "cell_type": "code",
      "source": [
        "# Start code\n",
        "\n",
        "# Import keras\n",
        "import keras\n",
        "\n",
        "# Display a few sample images from the dataset\n",
        "# To display 8 images horizontally with a figure size of (16, 4)\n",
        "figure, axes = plt.subplots(1, 8, figsize = (16, 4))\n",
        "\n",
        "# For loop from 0 to 8 to show 8 sample images\n",
        "for i in np.arange(0, 8):\n",
        "  # Index generates a random integer from 0 to the length of training dataset\n",
        "  idx = np.random.randint(0, len(x_train))\n",
        "\n",
        "  # Display the sample image\n",
        "  axes[i].imshow(x_train[idx])\n",
        "\n",
        "# Normalize the data\n",
        "# I did this in Task 2\n",
        "\n",
        "# Display the data shape of train, test data\n",
        "# Print data shape of train, test data\n",
        "print(\"Training data shape: \", x_train.shape, y_train.shape)\n",
        "print(\"Test data shape: \", x_test.shape, y_test.shape)\n",
        "\n",
        "# End code"
      ],
      "metadata": {
        "id": "p4sr1LJbaV67",
        "colab": {
          "base_uri": "https://localhost:8080/",
          "height": 141
        },
        "outputId": "19675aaf-d73f-455c-b3c9-d7f0ec5ee080"
      },
      "execution_count": 137,
      "outputs": [
        {
          "output_type": "stream",
          "name": "stdout",
          "text": [
            "Training data shape:  (50000, 32, 32, 3) (50000, 1)\n",
            "Test data shape:  (10000, 32, 32, 3) (10000, 1)\n"
          ]
        },
        {
          "output_type": "display_data",
          "data": {
            "text/plain": [
              "<Figure size 1600x400 with 8 Axes>"
            ],
            "image/png": "[encoded data removed]"
          },
          "metadata": {}
        }
      ]
    },
    {
      "cell_type": "markdown",
      "source": [
        "## Task 2: Change labels to categorical values (x_train and x_test) and Create train validation split (20% as validation)\n",
        "\n",
        "## Points 1"
      ],
      "metadata": {
        "id": "pwZI8oTLfoQ2"
      }
    },
    {
      "cell_type": "code",
      "source": [
        "# Start code\n",
        "\n",
        "# Count the number of classes\n",
        "num_classes = len(class_names)\n",
        "\n",
        "# Create train validation split (20% as validation)\n",
        "# Train, validation split\n",
        "train_split, val_split = 0.8, 0.2\n",
        "\n",
        "x_train, x_val, y_train, y_val = train_test_split(x_train, y_train, test_size = val_split)\n",
        "\n",
        "# Normalize the data\n",
        "x_val = x_val.astype('float32') / 255.\n",
        "x_train = x_train.astype('float32') / 255.\n",
        "x_test = x_test.astype('float32') / 255.\n",
        "\n",
        "# Change labels to categorical values\n",
        "# Convert labels to one-hot vectors\n",
        "y_val = keras.utils.to_categorical(y_val, num_classes)\n",
        "y_train = keras.utils.to_categorical(y_train, num_classes)\n",
        "y_test = keras.utils.to_categorical(y_test, num_classes)\n",
        "\n",
        "# End code"
      ],
      "metadata": {
        "id": "QuuIfZCTdBOR"
      },
      "execution_count": 138,
      "outputs": []
    },
    {
      "cell_type": "markdown",
      "source": [
        "## Task 3: Define the CNN model architecture\n",
        "\n",
        "## Points 2"
      ],
      "metadata": {
        "id": "_PYUmhEQ0Y4e"
      }
    },
    {
      "cell_type": "code",
      "source": [
        "'''\n",
        "Define a CNN model with follow layers\n",
        "- convolutional layer with 32 hidden units and (3,3) filter and relu activation\n",
        "- max pooling layer with (2,2)\n",
        "- flatten before connection to fully connected layers\n",
        "- Dense layer with 128 hidden units\n",
        "- Output layer with number of classes and the softmax activiation\n",
        "\n",
        "Points 2\n",
        "'''\n",
        "\n",
        "# Start code\n",
        "\n",
        "# Import Activation\n",
        "from keras.layers import Activation\n",
        "\n",
        "# Define a CNN model\n",
        "model_1 = Sequential()\n",
        "input_shape = (32, 32, 3)\n",
        "print(\"Input dimensions: \", input_shape)\n",
        "\n",
        "# Convolutional layer with 32 hidden units and (3,3) filter and relu activation\n",
        "model_1.add(Conv2D(32, (3,3), input_shape = input_shape))\n",
        "model_1.add(Activation('relu'))\n",
        "\n",
        "# Max pooling layer with (2,2)\n",
        "model_1.add(MaxPooling2D(pool_size = (2,2)))\n",
        "\n",
        "# Flatten before connection to fully connected layers\n",
        "model_1.add(Flatten())\n",
        "\n",
        "# Dense layer with 128 hidden units\n",
        "model_1.add(Dense(128))\n",
        "model_1.add(Activation('relu'))\n",
        "\n",
        "# Output layer with number of classes and the softmax activation\n",
        "model_1.add(Dense(num_classes))\n",
        "model_1.add(Activation('softmax'))\n",
        "\n",
        "# End code\n",
        "\n",
        "# Compile the model\n",
        "model_1.compile(optimizer=Adam(), loss='categorical_crossentropy', metrics=['accuracy'])\n",
        "model_1.summary()"
      ],
      "metadata": {
        "id": "ivYmVCwC0hQP",
        "colab": {
          "base_uri": "https://localhost:8080/"
        },
        "outputId": "83501d57-aab3-4766-9698-ee82ab520b52"
      },
      "execution_count": 139,
      "outputs": [
        {
          "output_type": "stream",
          "name": "stdout",
          "text": [
            "Input dimensions:  (32, 32, 3)\n",
            "Model: \"sequential_23\"\n",
            "_________________________________________________________________\n",
            " Layer (type)                Output Shape              Param #   \n",
            "=================================================================\n",
            " conv2d_39 (Conv2D)          (None, 30, 30, 32)        896       \n",
            "                                                                 \n",
            " activation_84 (Activation)  (None, 30, 30, 32)        0         \n",
            "                                                                 \n",
            " max_pooling2d_39 (MaxPooli  (None, 15, 15, 32)        0         \n",
            " ng2D)                                                           \n",
            "                                                                 \n",
            " flatten_23 (Flatten)        (None, 7200)              0         \n",
            "                                                                 \n",
            " dense_46 (Dense)            (None, 128)               921728    \n",
            "                                                                 \n",
            " activation_85 (Activation)  (None, 128)               0         \n",
            "                                                                 \n",
            " dense_47 (Dense)            (None, 10)                1290      \n",
            "                                                                 \n",
            " activation_86 (Activation)  (None, 10)                0         \n",
            "                                                                 \n",
            "=================================================================\n",
            "Total params: 923914 (3.52 MB)\n",
            "Trainable params: 923914 (3.52 MB)\n",
            "Non-trainable params: 0 (0.00 Byte)\n",
            "_________________________________________________________________\n"
          ]
        }
      ]
    },
    {
      "cell_type": "code",
      "source": [
        "# Train and fit\n",
        "history1 = model_1.fit(x_train, y_train, epochs=10, batch_size=64, validation_data=(x_val, y_val))\n"
      ],
      "metadata": {
        "id": "7mX6v9sL13Gq",
        "colab": {
          "base_uri": "https://localhost:8080/"
        },
        "outputId": "8a263424-521d-41be-b96d-a8f3696278cb"
      },
      "execution_count": 140,
      "outputs": [
        {
          "output_type": "stream",
          "name": "stdout",
          "text": [
            "Epoch 1/10\n",
            "625/625 [==============================] - 4s 5ms/step - loss: 1.5409 - accuracy: 0.4507 - val_loss: 1.3265 - val_accuracy: 0.5303\n",
            "Epoch 2/10\n",
            "625/625 [==============================] - 3s 5ms/step - loss: 1.2450 - accuracy: 0.5655 - val_loss: 1.2097 - val_accuracy: 0.5820\n",
            "Epoch 3/10\n",
            "625/625 [==============================] - 4s 6ms/step - loss: 1.1364 - accuracy: 0.6016 - val_loss: 1.1514 - val_accuracy: 0.5950\n",
            "Epoch 4/10\n",
            "625/625 [==============================] - 3s 5ms/step - loss: 1.0463 - accuracy: 0.6367 - val_loss: 1.1117 - val_accuracy: 0.6076\n",
            "Epoch 5/10\n",
            "625/625 [==============================] - 4s 7ms/step - loss: 0.9668 - accuracy: 0.6622 - val_loss: 1.0725 - val_accuracy: 0.6327\n",
            "Epoch 6/10\n",
            "625/625 [==============================] - 3s 5ms/step - loss: 0.9053 - accuracy: 0.6861 - val_loss: 1.0524 - val_accuracy: 0.6360\n",
            "Epoch 7/10\n",
            "625/625 [==============================] - 4s 6ms/step - loss: 0.8381 - accuracy: 0.7089 - val_loss: 1.0534 - val_accuracy: 0.6396\n",
            "Epoch 8/10\n",
            "625/625 [==============================] - 3s 5ms/step - loss: 0.7870 - accuracy: 0.7254 - val_loss: 1.0476 - val_accuracy: 0.6527\n",
            "Epoch 9/10\n",
            "625/625 [==============================] - 3s 5ms/step - loss: 0.7336 - accuracy: 0.7459 - val_loss: 1.0498 - val_accuracy: 0.6483\n",
            "Epoch 10/10\n",
            "625/625 [==============================] - 3s 5ms/step - loss: 0.6787 - accuracy: 0.7657 - val_loss: 1.0420 - val_accuracy: 0.6541\n"
          ]
        }
      ]
    },
    {
      "cell_type": "markdown",
      "source": [
        "## Task 4: Model Analysis\n",
        "\n",
        "## Points 2"
      ],
      "metadata": {
        "id": "bIV2LKvQ1prw"
      }
    },
    {
      "cell_type": "markdown",
      "source": [
        "#### 4.1. Explain why do we use a softmax activation in the last layer of the network?\n",
        "\n",
        "Points 1"
      ],
      "metadata": {
        "id": "PVUcjW9L17EY"
      }
    },
    {
      "cell_type": "markdown",
      "source": [
        "**Answer**  : In order to provide a final output, fully connected layers often learn to recognize the complex patterns and relationships between features from the convolutional layers. The output of these fully connected layers are connected to a softmax activation function because the last layer of the network is there to make make the final output prediction. The softmax activation is an activation function that scales numbers/logits into probabilities, therefore needed as the last layer of the network to output the final output classifications."
      ],
      "metadata": {
        "id": "cyZnauMFYRln"
      }
    },
    {
      "cell_type": "markdown",
      "source": [
        "#### 4.2. Do you think having more multiple convolutional and max pooling layers will improve the model? If so, why?\n",
        "\n",
        "Points 1"
      ],
      "metadata": {
        "id": "VxfHVnYv2KjF"
      }
    },
    {
      "cell_type": "markdown",
      "source": [
        "**Answer**: I believe that having more multiple convolutional and max pooling layers would or would not improve the model, depending on the amount of layers added. Convolutional layers are there to detect features within an input image. Therefore, by adding multiple convolutional layers, it could help extract more features. However, if more convolutional layers are added than needed, it can start detecting features that do not classify the certain object. Adding multiple max pooling layers would or would not improve the model, depending on the amount of layers added as well. I believe that by adding an unnecessary amount of max pooling layers, it could cause an overfitting issue similar to adding too many convolutional layers."
      ],
      "metadata": {
        "id": "_eoZSwT22V8A"
      }
    },
    {
      "cell_type": "markdown",
      "source": [
        "## Task 5: Model 2\n",
        "\n",
        "Points: 2"
      ],
      "metadata": {
        "id": "Okrb9z2oa0DQ"
      }
    },
    {
      "cell_type": "markdown",
      "source": [
        "### 5.1 Create a new model (model_2) with additonal convolutional and max pooling layers\n",
        "\n",
        "\n",
        "Points 1\n",
        "\n"
      ],
      "metadata": {
        "id": "71puntblGbSb"
      }
    },
    {
      "cell_type": "code",
      "source": [
        "'''\n",
        "\n",
        "model_2 with following layers\n",
        "- convolutional layer with 32 hidden units and (3,3) filter and relu activation\n",
        "- max pooling layer with (2,2)\n",
        "- convolutional layer with 64 hidden units and (3,3) filter and relu activation\n",
        "- max pooling layer with (2,2)\n",
        "- convolutional layer with 128 hidden units and (3,3) filter and relu activation\n",
        "- max pooling layer with (2,2)\n",
        "- flatten before connecting to fully connected layers\n",
        "- Dense layer with 128 hidden units\n",
        "- Output layer with number of classes and the softmax activiation\n",
        "\n",
        "'''\n",
        "# Start code\n",
        "\n",
        "# Define a CNN model\n",
        "model_2 = Sequential()\n",
        "input_shape = (32, 32, 3)\n",
        "print(\"Input dimensions: \", input_shape)\n",
        "\n",
        "# Convolutional layer with 32 hidden units and (3,3) filter and relu activation\n",
        "model_2.add(Conv2D(32, (3,3), input_shape = input_shape))\n",
        "model_2.add(Activation('relu'))\n",
        "\n",
        "# Max pooling layer with (2,2)\n",
        "model_2.add(MaxPooling2D(pool_size = (2,2)))\n",
        "\n",
        "# Convolutional layer with 64 hidden units and (3,3) filter and relu activation\n",
        "model_2.add(Conv2D(64, (3,3), input_shape = input_shape))\n",
        "model_2.add(Activation('relu'))\n",
        "\n",
        "# Max pooling layer with (2,2)\n",
        "model_2.add(MaxPooling2D(pool_size = (2,2)))\n",
        "\n",
        "# Convolutional layer with 128 hidden units and (3,3) filter and relu activation\n",
        "model_2.add(Conv2D(128, (3,3), input_shape = input_shape))\n",
        "model_2.add(Activation('relu'))\n",
        "\n",
        "# Max pooling layer with (2,2)\n",
        "model_2.add(MaxPooling2D(pool_size = (2,2)))\n",
        "\n",
        "# Flatten before connection to fully connected layers\n",
        "model_2.add(Flatten())\n",
        "\n",
        "# Dense layer with 128 hidden units\n",
        "model_2.add(Dense(128))\n",
        "model_2.add(Activation('relu'))\n",
        "\n",
        "#Output layer with number of classes and the softmax activiation\n",
        "model_2.add(Dense(num_classes))\n",
        "model_2.add(Activation('softmax'))\n",
        "\n",
        "# End code\n",
        "model_2.summary()\n",
        "model_2.compile(optimizer=Adam(), loss='categorical_crossentropy', metrics=['accuracy'])"
      ],
      "metadata": {
        "id": "Gf4RjjFzGmlu",
        "colab": {
          "base_uri": "https://localhost:8080/"
        },
        "outputId": "e9f996cc-c9d7-495e-e721-16cc436f9c4d"
      },
      "execution_count": 141,
      "outputs": [
        {
          "output_type": "stream",
          "name": "stdout",
          "text": [
            "Input dimensions:  (32, 32, 3)\n",
            "Model: \"sequential_24\"\n",
            "_________________________________________________________________\n",
            " Layer (type)                Output Shape              Param #   \n",
            "=================================================================\n",
            " conv2d_40 (Conv2D)          (None, 30, 30, 32)        896       \n",
            "                                                                 \n",
            " activation_87 (Activation)  (None, 30, 30, 32)        0         \n",
            "                                                                 \n",
            " max_pooling2d_40 (MaxPooli  (None, 15, 15, 32)        0         \n",
            " ng2D)                                                           \n",
            "                                                                 \n",
            " conv2d_41 (Conv2D)          (None, 13, 13, 64)        18496     \n",
            "                                                                 \n",
            " activation_88 (Activation)  (None, 13, 13, 64)        0         \n",
            "                                                                 \n",
            " max_pooling2d_41 (MaxPooli  (None, 6, 6, 64)          0         \n",
            " ng2D)                                                           \n",
            "                                                                 \n",
            " conv2d_42 (Conv2D)          (None, 4, 4, 128)         73856     \n",
            "                                                                 \n",
            " activation_89 (Activation)  (None, 4, 4, 128)         0         \n",
            "                                                                 \n",
            " max_pooling2d_42 (MaxPooli  (None, 2, 2, 128)         0         \n",
            " ng2D)                                                           \n",
            "                                                                 \n",
            " flatten_24 (Flatten)        (None, 512)               0         \n",
            "                                                                 \n",
            " dense_48 (Dense)            (None, 128)               65664     \n",
            "                                                                 \n",
            " activation_90 (Activation)  (None, 128)               0         \n",
            "                                                                 \n",
            " dense_49 (Dense)            (None, 10)                1290      \n",
            "                                                                 \n",
            " activation_91 (Activation)  (None, 10)                0         \n",
            "                                                                 \n",
            "=================================================================\n",
            "Total params: 160202 (625.79 KB)\n",
            "Trainable params: 160202 (625.79 KB)\n",
            "Non-trainable params: 0 (0.00 Byte)\n",
            "_________________________________________________________________\n"
          ]
        }
      ]
    },
    {
      "cell_type": "code",
      "source": [
        "# Train and fit\n",
        "\n",
        "history2 = model_2.fit(x_train, y_train, epochs=10, batch_size=64, validation_data=(x_val, y_val))\n"
      ],
      "metadata": {
        "id": "IaPBW3TiGuco",
        "colab": {
          "base_uri": "https://localhost:8080/"
        },
        "outputId": "d6471b3b-db24-4fd5-da50-38f39155dd55"
      },
      "execution_count": 142,
      "outputs": [
        {
          "output_type": "stream",
          "name": "stdout",
          "text": [
            "Epoch 1/10\n",
            "625/625 [==============================] - 6s 7ms/step - loss: 1.6081 - accuracy: 0.4087 - val_loss: 1.4201 - val_accuracy: 0.4848\n",
            "Epoch 2/10\n",
            "625/625 [==============================] - 4s 6ms/step - loss: 1.2372 - accuracy: 0.5563 - val_loss: 1.2071 - val_accuracy: 0.5723\n",
            "Epoch 3/10\n",
            "625/625 [==============================] - 4s 6ms/step - loss: 1.0617 - accuracy: 0.6251 - val_loss: 1.0436 - val_accuracy: 0.6321\n",
            "Epoch 4/10\n",
            "625/625 [==============================] - 3s 5ms/step - loss: 0.9465 - accuracy: 0.6687 - val_loss: 1.0053 - val_accuracy: 0.6465\n",
            "Epoch 5/10\n",
            "625/625 [==============================] - 5s 7ms/step - loss: 0.8634 - accuracy: 0.7000 - val_loss: 0.9293 - val_accuracy: 0.6782\n",
            "Epoch 6/10\n",
            "625/625 [==============================] - 4s 6ms/step - loss: 0.7935 - accuracy: 0.7225 - val_loss: 0.9176 - val_accuracy: 0.6820\n",
            "Epoch 7/10\n",
            "625/625 [==============================] - 3s 5ms/step - loss: 0.7290 - accuracy: 0.7468 - val_loss: 0.9007 - val_accuracy: 0.6859\n",
            "Epoch 8/10\n",
            "625/625 [==============================] - 4s 6ms/step - loss: 0.6738 - accuracy: 0.7643 - val_loss: 0.9007 - val_accuracy: 0.6910\n",
            "Epoch 9/10\n",
            "625/625 [==============================] - 4s 7ms/step - loss: 0.6260 - accuracy: 0.7801 - val_loss: 0.9435 - val_accuracy: 0.6836\n",
            "Epoch 10/10\n",
            "625/625 [==============================] - 4s 6ms/step - loss: 0.5770 - accuracy: 0.7998 - val_loss: 0.8989 - val_accuracy: 0.7024\n"
          ]
        }
      ]
    },
    {
      "cell_type": "markdown",
      "source": [
        "### 5.2 What do you think about the performance looking at the train accuracy and loss compared with the validation accuracy and loss? Why is this happening? How can we improve it?\n",
        "\n",
        "Points 1"
      ],
      "metadata": {
        "id": "YBl0WRqtSPvA"
      }
    },
    {
      "cell_type": "markdown",
      "source": [
        "**Answer**: From looking at the performance, I can see that the train loss and the validation loss start off around the same, however throughout the performance, the validation loss is greater than the train loss. On the other hand, the train accuracy and the validation accuracy start off around the same, but throughout the performance, the train accuracy is greater than the validation accuracy.\n",
        "\n",
        "I also see that the train loss and validation loss seem to steadily decrease. In addition, the train accuracy seems to steadily increase. However, the validation accuracy seems to increase but seems to plateau and become constant near the 8th epoch.\n",
        "\n",
        "I believe that the validation accuracy slowly plateauing while the train accuracy continues to increase means that the model is experiencing overfitting. In order to improve the performance, we could hyperparameter or layer tune. One way to do so would be adding dropout layers. Dropout layers help with overfitting by ignoring certain nodes and reduces bias.\n"
      ],
      "metadata": {
        "id": "xVXJfcXnSX_t"
      }
    },
    {
      "cell_type": "markdown",
      "source": [
        "## Task 6: Model 3\n",
        "\n",
        "## Points 1"
      ],
      "metadata": {
        "id": "Q-7ReSRkcWlk"
      }
    },
    {
      "cell_type": "markdown",
      "source": [
        "### 6.1 : Create a  model_3 with dropout layers\n",
        "\n",
        "Points : 1"
      ],
      "metadata": {
        "id": "lFSU3YHPTaeK"
      }
    },
    {
      "cell_type": "code",
      "source": [
        "'''\n",
        "model_3 with following layers\n",
        "- convolutional layer with 32 hidden units and (3,3) filter and relu activation\n",
        "- max pooling layer with (2,2)\n",
        "- convolutional layer with 64 hidden units and (3,3) filter and relu activation\n",
        "- max pooling layer with (2,2)\n",
        "- convolutional layer with 128 hidden units and (3,3) filter and relu activation\n",
        "- max pooling layer with (2,2)\n",
        "- Add dropout after the third Conv layer wit (0.25)\n",
        "- flatten before connection to fully connected layers\n",
        "- Dense layer with 128 hidden units\n",
        "- Output layer with number of classes and the softmax activiation\n",
        "\n",
        "'''\n",
        "\n",
        "# Start code\n",
        "\n",
        "# Define a CNN model\n",
        "model_3 = Sequential()\n",
        "input_shape = (32, 32, 3)\n",
        "print(\"Input dimensions: \", input_shape)\n",
        "\n",
        "# Convolutional layer with 32 hidden units and (3,3) filter and relu activation\n",
        "model_3.add(Conv2D(32, (3,3), input_shape = input_shape))\n",
        "model_3.add(Activation('relu'))\n",
        "\n",
        "# Max pooling layer with (2,2)\n",
        "model_3.add(MaxPooling2D(pool_size = (2,2)))\n",
        "\n",
        "# Convolutional layer with 64 hidden units and (3,3) filter and relu activation\n",
        "model_3.add(Conv2D(64, (3,3), input_shape = input_shape))\n",
        "model_3.add(Activation('relu'))\n",
        "\n",
        "# Max pooling layer with (2,2)\n",
        "model_3.add(MaxPooling2D(pool_size = (2,2)))\n",
        "\n",
        "# Convolutional layer with 128 hidden units and (3,3) filter and relu activation\n",
        "model_3.add(Conv2D(128, (3,3), input_shape = input_shape))\n",
        "model_3.add(Activation('relu'))\n",
        "\n",
        "# Max pooling layer with (2,2)\n",
        "model_3.add(MaxPooling2D(pool_size = (2,2)))\n",
        "\n",
        "# Add a dropout after the third Conv layer with (0.25)\n",
        "model_3.add(Dropout(0.25))\n",
        "\n",
        "# Flatten before connection to fully connected layers\n",
        "model_3.add(Flatten())\n",
        "\n",
        "# Dense layer with 128 hidden units\n",
        "model_3.add(Dense(128))\n",
        "model_3.add(Activation('relu'))\n",
        "\n",
        "#Output layer with number of classes and the softmax activiation\n",
        "model_3.add(Dense(num_classes))\n",
        "model_3.add(Activation('softmax'))\n",
        "\n",
        "# End code\n",
        "\n",
        "model_3.summary()\n",
        "model_3.compile(optimizer=Adam(), loss='categorical_crossentropy', metrics=['accuracy'])"
      ],
      "metadata": {
        "id": "qjfdzhnITky0",
        "colab": {
          "base_uri": "https://localhost:8080/"
        },
        "outputId": "8bda8da5-b408-4102-a620-0a72cc346e29"
      },
      "execution_count": 143,
      "outputs": [
        {
          "output_type": "stream",
          "name": "stdout",
          "text": [
            "Input dimensions:  (32, 32, 3)\n",
            "Model: \"sequential_25\"\n",
            "_________________________________________________________________\n",
            " Layer (type)                Output Shape              Param #   \n",
            "=================================================================\n",
            " conv2d_43 (Conv2D)          (None, 30, 30, 32)        896       \n",
            "                                                                 \n",
            " activation_92 (Activation)  (None, 30, 30, 32)        0         \n",
            "                                                                 \n",
            " max_pooling2d_43 (MaxPooli  (None, 15, 15, 32)        0         \n",
            " ng2D)                                                           \n",
            "                                                                 \n",
            " conv2d_44 (Conv2D)          (None, 13, 13, 64)        18496     \n",
            "                                                                 \n",
            " activation_93 (Activation)  (None, 13, 13, 64)        0         \n",
            "                                                                 \n",
            " max_pooling2d_44 (MaxPooli  (None, 6, 6, 64)          0         \n",
            " ng2D)                                                           \n",
            "                                                                 \n",
            " conv2d_45 (Conv2D)          (None, 4, 4, 128)         73856     \n",
            "                                                                 \n",
            " activation_94 (Activation)  (None, 4, 4, 128)         0         \n",
            "                                                                 \n",
            " max_pooling2d_45 (MaxPooli  (None, 2, 2, 128)         0         \n",
            " ng2D)                                                           \n",
            "                                                                 \n",
            " dropout_5 (Dropout)         (None, 2, 2, 128)         0         \n",
            "                                                                 \n",
            " flatten_25 (Flatten)        (None, 512)               0         \n",
            "                                                                 \n",
            " dense_50 (Dense)            (None, 128)               65664     \n",
            "                                                                 \n",
            " activation_95 (Activation)  (None, 128)               0         \n",
            "                                                                 \n",
            " dense_51 (Dense)            (None, 10)                1290      \n",
            "                                                                 \n",
            " activation_96 (Activation)  (None, 10)                0         \n",
            "                                                                 \n",
            "=================================================================\n",
            "Total params: 160202 (625.79 KB)\n",
            "Trainable params: 160202 (625.79 KB)\n",
            "Non-trainable params: 0 (0.00 Byte)\n",
            "_________________________________________________________________\n"
          ]
        }
      ]
    },
    {
      "cell_type": "code",
      "source": [
        "# Train and fit model_3\n",
        "history3 = model_3.fit(x_train, y_train, epochs=10, batch_size=64, validation_data=(x_val, y_val))\n"
      ],
      "metadata": {
        "id": "u3UNRaP1UTiB",
        "colab": {
          "base_uri": "https://localhost:8080/"
        },
        "outputId": "309bedbd-ad55-40b0-b95b-01f10f52f732"
      },
      "execution_count": 144,
      "outputs": [
        {
          "output_type": "stream",
          "name": "stdout",
          "text": [
            "Epoch 1/10\n",
            "625/625 [==============================] - 6s 7ms/step - loss: 1.6610 - accuracy: 0.3844 - val_loss: 1.3367 - val_accuracy: 0.5173\n",
            "Epoch 2/10\n",
            "625/625 [==============================] - 4s 6ms/step - loss: 1.2949 - accuracy: 0.5333 - val_loss: 1.1508 - val_accuracy: 0.5992\n",
            "Epoch 3/10\n",
            "625/625 [==============================] - 4s 7ms/step - loss: 1.1368 - accuracy: 0.5968 - val_loss: 1.0549 - val_accuracy: 0.6367\n",
            "Epoch 4/10\n",
            "625/625 [==============================] - 3s 5ms/step - loss: 1.0354 - accuracy: 0.6346 - val_loss: 0.9825 - val_accuracy: 0.6568\n",
            "Epoch 5/10\n",
            "625/625 [==============================] - 3s 5ms/step - loss: 0.9637 - accuracy: 0.6616 - val_loss: 0.9301 - val_accuracy: 0.6736\n",
            "Epoch 6/10\n",
            "625/625 [==============================] - 4s 7ms/step - loss: 0.8934 - accuracy: 0.6872 - val_loss: 0.8968 - val_accuracy: 0.6857\n",
            "Epoch 7/10\n",
            "625/625 [==============================] - 4s 6ms/step - loss: 0.8451 - accuracy: 0.7035 - val_loss: 0.8383 - val_accuracy: 0.7043\n",
            "Epoch 8/10\n",
            "625/625 [==============================] - 3s 5ms/step - loss: 0.8031 - accuracy: 0.7217 - val_loss: 0.8354 - val_accuracy: 0.7060\n",
            "Epoch 9/10\n",
            "625/625 [==============================] - 3s 5ms/step - loss: 0.7613 - accuracy: 0.7318 - val_loss: 0.7920 - val_accuracy: 0.7235\n",
            "Epoch 10/10\n",
            "625/625 [==============================] - 5s 7ms/step - loss: 0.7297 - accuracy: 0.7429 - val_loss: 0.8020 - val_accuracy: 0.7245\n"
          ]
        }
      ]
    },
    {
      "cell_type": "markdown",
      "source": [
        "## Task 7 : Evalute the model\n",
        "\n",
        "## Points 3"
      ],
      "metadata": {
        "id": "ZS_E1Q9I28_x"
      }
    },
    {
      "cell_type": "markdown",
      "source": [
        "#### 1.7.1. Display graphs to show the model performance (accuracy, loss) on train and validation data\n",
        "\n",
        "- Show performance (train_accuracy, train_loss, validation_accuracy and validation_loss) on model_1, model_2 and model_3 as graphs\n",
        "\n",
        "Points 2"
      ],
      "metadata": {
        "id": "aTarJpWV3HqU"
      }
    },
    {
      "cell_type": "code",
      "source": [
        "# Start code\n",
        "\n",
        "# Display the performance (accuracy, loss) on train and validation data\n",
        "\n",
        "# Train Accuracy\n",
        "fig = plt.figure()\n",
        "ax = fig.add_subplot(221)\n",
        "ax.plot(history1.history[\"accuracy\"])\n",
        "ax.plot(history2.history[\"accuracy\"])\n",
        "ax.plot(history3.history[\"accuracy\"])\n",
        "ax.set_title(\"Train Accuracy\")\n",
        "ax.set_xlabel(\"Epochs\")\n",
        "\n",
        "# Train Loss\n",
        "ax2 = fig.add_subplot(222)\n",
        "ax2.plot(history1.history[\"loss\"])\n",
        "ax2.plot(history2.history[\"loss\"])\n",
        "ax2.plot(history3.history[\"loss\"])\n",
        "ax2.set_title(\"Train Loss\")\n",
        "ax2.set_xlabel(\"Epochs\")\n",
        "\n",
        "# Validation Accuracy\n",
        "ax3 = fig.add_subplot(223)\n",
        "ax3.plot(history1.history[\"val_accuracy\"])\n",
        "ax3.plot(history2.history[\"val_accuracy\"])\n",
        "ax3.plot(history3.history[\"val_accuracy\"])\n",
        "ax3.set_title(\"Validation Accuracy\")\n",
        "ax3.set_xlabel(\"Epochs\")\n",
        "\n",
        "# Validation Loss\n",
        "ax4 = fig.add_subplot(224)\n",
        "ax4.plot(history1.history[\"val_loss\"])\n",
        "ax4.plot(history2.history[\"val_loss\"])\n",
        "ax4.plot(history3.history[\"val_loss\"])\n",
        "ax4.set_title(\"Validation Loss\")\n",
        "ax4.set_xlabel(\"Epochs\")\n",
        "\n",
        "plt.legend([\"model_1\", \"model_2\", \"model_3\"])\n",
        "plt.tight_layout()\n",
        "plt.show()\n",
        "\n",
        "# End code"
      ],
      "metadata": {
        "id": "yvGc9qKP3Hbh",
        "colab": {
          "base_uri": "https://localhost:8080/",
          "height": 486
        },
        "outputId": "c3e431a3-e3d9-4517-bcf9-b7620d787a08"
      },
      "execution_count": 145,
      "outputs": [
        {
          "output_type": "display_data",
          "data": {
            "text/plain": [
              "<Figure size 640x480 with 4 Axes>"
            ],
            "image/png": "[encoded data removed]"
          },
          "metadata": {}
        }
      ]
    },
    {
      "cell_type": "markdown",
      "source": [
        "#### 1.7.2. Display the test performance scores on baseline model_1, model_2 and model_3\n",
        "\n",
        "Points 1"
      ],
      "metadata": {
        "id": "zCvSck2m3We6"
      }
    },
    {
      "cell_type": "code",
      "source": [
        "# Start code\n",
        "\n",
        "loss1, accuracy1 = model_1.evaluate(x_test, y_test, verbose = 0)\n",
        "loss2, accuracy2 = model_2.evaluate(x_test, y_test, verbose = 0)\n",
        "loss3, accuracy3 = model_3.evaluate(x_test, y_test, verbose = 0)\n",
        "\n",
        "print('Model 1 Test Loss:', loss1)\n",
        "print('Model 1 Test Accuracy:', accuracy1)\n",
        "print('Model 2 Test Loss:', loss2)\n",
        "print('Model 2 Test Accuracy:', accuracy2)\n",
        "print('Model 3 Test Loss:', loss3)\n",
        "print('Model 3 Test Accuracy:', accuracy3)\n",
        "\n",
        "# End code"
      ],
      "metadata": {
        "id": "f8lB-5MM26bZ",
        "colab": {
          "base_uri": "https://localhost:8080/"
        },
        "outputId": "b459ac2f-b811-4398-db1a-04ede775d2fd"
      },
      "execution_count": 146,
      "outputs": [
        {
          "output_type": "stream",
          "name": "stdout",
          "text": [
            "Model 1 Test Loss: 1.0541763305664062\n",
            "Model 1 Test Accuracy: 0.6473000049591064\n",
            "Model 2 Test Loss: 0.9103708863258362\n",
            "Model 2 Test Accuracy: 0.7019000053405762\n",
            "Model 3 Test Loss: 0.8045763969421387\n",
            "Model 3 Test Accuracy: 0.7236999869346619\n"
          ]
        }
      ]
    },
    {
      "cell_type": "markdown",
      "source": [
        "## Task 8: Final summary and insights\n",
        "\n",
        "##Points 2"
      ],
      "metadata": {
        "id": "pKqndzmJXOib"
      }
    },
    {
      "cell_type": "markdown",
      "source": [
        "### Write a report summarizing your findings and insights.\n",
        "\n",
        "- Compare and analyze the results with the different models.\n",
        "- Provide inference results and discuss any limitations or areas for further improvement.\n",
        "\n",
        "Points 2"
      ],
      "metadata": {
        "id": "T5v5gdB4aIyA"
      }
    },
    {
      "cell_type": "markdown",
      "source": [
        "**Answer** :\n",
        "\n",
        "From examining the graphs for train (accuracy and loss) and validation (accuracy and loss), I am able to see how the different models performed in comparison to each other.\n",
        "\n",
        "By looking at the train loss graph, I am able to see that model_1 and model_2 experienced overfitting because the plot of the training loss seems to continuly decrease. As predicted in Section 5.2, adding the dropout layers in model_3 seem to help with the overfitting issue as the plot of training loss seems to plateau near the end compared to model_1 and model_2.\n",
        "\n",
        "Looking at the train accuracy and validation accuracy graph, model_1's training accuracy seems to improve while the validation accuracy seems to worsen. I believe that this shows that model_1 was experiencing overfitting. On the other hand, model_2 and model_3's validation accuracy seem to keep up with the train accuracy.\n",
        "\n",
        "From this assignment, it can be seen that by adding useful amounts of convolutional and max pooling layers as well as dropout layers, the model performance improves. In order to make further improvements, I think that by adding a useful amount of Dropouts, Dense hidden layers, and convolutional layers could help improve the performance. Therefore, I think all in all, experimenting with different layers and improving the network design would have a significant effect on the performance."
      ],
      "metadata": {
        "id": "UHJBeq4yaXGN"
      }
    }
  ]
}